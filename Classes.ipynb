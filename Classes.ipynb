{
 "cells": [
  {
   "cell_type": "code",
   "execution_count": 18,
   "id": "74fa8945",
   "metadata": {},
   "outputs": [],
   "source": [
    "import datetime"
   ]
  },
  {
   "cell_type": "code",
   "execution_count": 2,
   "id": "1ae7c8f7",
   "metadata": {},
   "outputs": [],
   "source": [
    "user1 = User()"
   ]
  },
  {
   "cell_type": "code",
   "execution_count": 4,
   "id": "6f0f61be",
   "metadata": {},
   "outputs": [],
   "source": [
    "user1.first_name=\"Frank\"\n",
    "user1.last_name=\"Poole\"\n",
    "user1.age =17"
   ]
  },
  {
   "cell_type": "code",
   "execution_count": 19,
   "id": "e348b1bd",
   "metadata": {},
   "outputs": [],
   "source": [
    "class Person:\n",
    "    def __init__(self, full_name, birthday):\n",
    "        self.name=full_name\n",
    "        self.birthday=birthday #yyyymmdd\n",
    "        # extract first and last names\n",
    "        name_pieces = full_name.split(\" \")\n",
    "        self.first_name = name_pieces[0]\n",
    "        self.last_name = name_pieces[-1]\n",
    "    def age(self):\n",
    "        '''Return the age of the user in years.'''\n",
    "        today = datetime.date(2001, 5, 12)\n",
    "        yyyy = int(self.birthday[:4])\n",
    "        mm = int(self.birthday[4:6])\n",
    "        dd = int(self.birthday[6:8])\n",
    "        dob = datetime.date(yyyy, mm, dd)\n",
    "        age_in_days = (today - dob).days\n",
    "        age_in_years = age_in_days/365 #ignores leap year"
   ]
  },
  {
   "cell_type": "code",
   "execution_count": 22,
   "id": "26260e52",
   "metadata": {},
   "outputs": [
    {
     "name": "stdout",
     "output_type": "stream",
     "text": [
      "Dave Bowman\n",
      "Dave\n",
      "Bowman\n",
      "19710315\n",
      "None\n"
     ]
    }
   ],
   "source": [
    "user = Person(\"Dave Bowman\", \"19710315\")\n",
    "print(user.name)\n",
    "print(user.first_name)\n",
    "print(user.last_name)\n",
    "print(user.birthday)\n",
    "print(user.age())"
   ]
  },
  {
   "cell_type": "raw",
   "id": "4650146e",
   "metadata": {},
   "source": []
  }
 ],
 "metadata": {
  "kernelspec": {
   "display_name": "Python 3 (ipykernel)",
   "language": "python",
   "name": "python3"
  },
  "language_info": {
   "codemirror_mode": {
    "name": "ipython",
    "version": 3
   },
   "file_extension": ".py",
   "mimetype": "text/x-python",
   "name": "python",
   "nbconvert_exporter": "python",
   "pygments_lexer": "ipython3",
   "version": "3.8.8"
  }
 },
 "nbformat": 4,
 "nbformat_minor": 5
}
