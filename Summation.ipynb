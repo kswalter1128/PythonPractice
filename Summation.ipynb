{
 "cells": [
  {
   "cell_type": "code",
   "execution_count": 3,
   "id": "4be27adf",
   "metadata": {},
   "outputs": [],
   "source": [
    "# attempting recursion\n",
    "def summation(n):\n",
    "    n = int(n)\n",
    "    if n <= 0:\n",
    "        return 0\n",
    "    else:\n",
    "        return n + summation(n-1)"
   ]
  },
  {
   "cell_type": "code",
   "execution_count": 4,
   "id": "ee7d50f5",
   "metadata": {},
   "outputs": [
    {
     "data": {
      "text/plain": [
       "6"
      ]
     },
     "execution_count": 4,
     "metadata": {},
     "output_type": "execute_result"
    }
   ],
   "source": [
    "summation(3)"
   ]
  },
  {
   "cell_type": "code",
   "execution_count": 5,
   "id": "1c35efe7",
   "metadata": {},
   "outputs": [
    {
     "data": {
      "text/plain": [
       "1977066"
      ]
     },
     "execution_count": 5,
     "metadata": {},
     "output_type": "execute_result"
    }
   ],
   "source": [
    "summation(1988)"
   ]
  },
  {
   "cell_type": "code",
   "execution_count": 6,
   "id": "21c6aca6",
   "metadata": {},
   "outputs": [],
   "source": [
    "def factorial(n):\n",
    "    n = int(n)\n",
    "    if n<=1:\n",
    "        return 1\n",
    "    else:\n",
    "        return n * factorial(n-1)"
   ]
  },
  {
   "cell_type": "code",
   "execution_count": 7,
   "id": "a108115f",
   "metadata": {},
   "outputs": [
    {
     "data": {
      "text/plain": [
       "13763753091226345046315979581580902400000000"
      ]
     },
     "execution_count": 7,
     "metadata": {},
     "output_type": "execute_result"
    }
   ],
   "source": [
    "factorial(37)"
   ]
  },
  {
   "cell_type": "code",
   "execution_count": 8,
   "id": "01466ce2",
   "metadata": {},
   "outputs": [
    {
     "data": {
      "text/plain": [
       "24"
      ]
     },
     "execution_count": 8,
     "metadata": {},
     "output_type": "execute_result"
    }
   ],
   "source": [
    "factorial(4)"
   ]
  },
  {
   "cell_type": "code",
   "execution_count": 10,
   "id": "76ac2e05",
   "metadata": {},
   "outputs": [],
   "source": [
    "def exponentiation(n, p):\n",
    "    if p <=0:\n",
    "        return 1\n",
    "    else:\n",
    "        return n * exponentiation(n, p-1)"
   ]
  },
  {
   "cell_type": "code",
   "execution_count": 11,
   "id": "75f72b2f",
   "metadata": {},
   "outputs": [
    {
     "data": {
      "text/plain": [
       "27"
      ]
     },
     "execution_count": 11,
     "metadata": {},
     "output_type": "execute_result"
    }
   ],
   "source": [
    "exponentiation(3,3)"
   ]
  },
  {
   "cell_type": "code",
   "execution_count": null,
   "id": "b913dd0d",
   "metadata": {},
   "outputs": [],
   "source": []
  }
 ],
 "metadata": {
  "kernelspec": {
   "display_name": "Python 3 (ipykernel)",
   "language": "python",
   "name": "python3"
  },
  "language_info": {
   "codemirror_mode": {
    "name": "ipython",
    "version": 3
   },
   "file_extension": ".py",
   "mimetype": "text/x-python",
   "name": "python",
   "nbconvert_exporter": "python",
   "pygments_lexer": "ipython3",
   "version": "3.8.8"
  }
 },
 "nbformat": 4,
 "nbformat_minor": 5
}
