{
 "cells": [
  {
   "cell_type": "code",
   "execution_count": 1,
   "id": "b25e9831",
   "metadata": {},
   "outputs": [],
   "source": [
    "class User():\n",
    "    pass"
   ]
  },
  {
   "cell_type": "code",
   "execution_count": 2,
   "id": "3f5460c2",
   "metadata": {},
   "outputs": [],
   "source": [
    "user1 = User()"
   ]
  },
  {
   "cell_type": "code",
   "execution_count": 4,
   "id": "21871df3",
   "metadata": {},
   "outputs": [],
   "source": [
    "user1.first_name=\"Frank\"\n",
    "user1.last_name=\"Poole\"\n",
    "user1.age =17"
   ]
  },
  {
   "cell_type": "code",
   "execution_count": 7,
   "id": "6cdd7b10",
   "metadata": {},
   "outputs": [],
   "source": [
    "class User:\n",
    "    def _init_(self, full_name, birthday):\n",
    "        self.name=full_name\n",
    "        self.birthday=birthday #yyyymmdd"
   ]
  },
  {
   "cell_type": "code",
   "execution_count": null,
   "id": "07335af7",
   "metadata": {},
   "outputs": [],
   "source": []
  }
 ],
 "metadata": {
  "kernelspec": {
   "display_name": "Python 3 (ipykernel)",
   "language": "python",
   "name": "python3"
  },
  "language_info": {
   "codemirror_mode": {
    "name": "ipython",
    "version": 3
   },
   "file_extension": ".py",
   "mimetype": "text/x-python",
   "name": "python",
   "nbconvert_exporter": "python",
   "pygments_lexer": "ipython3",
   "version": "3.8.8"
  }
 },
 "nbformat": 4,
 "nbformat_minor": 5
}
