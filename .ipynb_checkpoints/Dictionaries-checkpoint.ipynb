{
 "cells": [
  {
   "cell_type": "code",
   "execution_count": 3,
   "id": "79eff50a-3e35-4496-8606-9eba26c0bb6e",
   "metadata": {},
   "outputs": [
    {
     "name": "stdout",
     "output_type": "stream",
     "text": [
      "{'Marina': 6607.0, 'Vinay': 3225.0, 'Connie': 8886.0, 'Isaac': 16444.0, 'Valentina': 6420.0}\n",
      "{'Marina': 6607.0, 'Vinay': 3325.0, 'Connie': 8886.0, 'Isaac': 16444.0, 'Valentina': 6420.0}\n",
      "41682.0\n",
      "Average Cost: 8336.40\n"
     ]
    }
   ],
   "source": [
    "#Dictionaries\n",
    "#Step 1\n",
    "medical_costs = {}\n",
    "\n",
    "#Step 2\n",
    "medical_costs['Marina']=6607.0\n",
    "medical_costs['Vinay']=3225.0\n",
    "\n",
    "#step 3\n",
    "medical_costs.update({'Connie':8886.0,'Isaac':16444.0,'Valentina':6420.0})\n",
    "\n",
    "#Step 4\n",
    "print(medical_costs)\n",
    "\n",
    "#Step 5\n",
    "medical_costs['Vinay']=3325.0\n",
    "print(medical_costs)\n",
    "\n",
    "#Step 6\n",
    "total_cost = 0\n",
    "for x in medical_costs:\n",
    "  total_cost+= medical_costs[x]\n",
    "print(total_cost)\n",
    "average_cost = total_cost/len(medical_costs)\n",
    "print(\"Average Cost: {:.2f}\".format(average_cost))"
   ]
  },
  {
   "cell_type": "code",
   "execution_count": null,
   "id": "d799365e-e353-4459-bf6f-e2d14b8b17e8",
   "metadata": {},
   "outputs": [],
   "source": []
  }
 ],
 "metadata": {
  "kernelspec": {
   "display_name": "Python 3 (ipykernel)",
   "language": "python",
   "name": "python3"
  },
  "language_info": {
   "codemirror_mode": {
    "name": "ipython",
    "version": 3
   },
   "file_extension": ".py",
   "mimetype": "text/x-python",
   "name": "python",
   "nbconvert_exporter": "python",
   "pygments_lexer": "ipython3",
   "version": "3.8.8"
  }
 },
 "nbformat": 4,
 "nbformat_minor": 5
}
